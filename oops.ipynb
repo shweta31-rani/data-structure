{
  "nbformat": 4,
  "nbformat_minor": 0,
  "metadata": {
    "colab": {
      "provenance": [],
      "authorship_tag": "ABX9TyO6TgdM131KasVmawyGjOwu",
      "include_colab_link": true
    },
    "kernelspec": {
      "name": "python3",
      "display_name": "Python 3"
    },
    "language_info": {
      "name": "python"
    }
  },
  "cells": [
    {
      "cell_type": "markdown",
      "metadata": {
        "id": "view-in-github",
        "colab_type": "text"
      },
      "source": [
        "<a href=\"https://colab.research.google.com/github/shweta31-rani/data-structure/blob/main/oops.ipynb\" target=\"_parent\"><img src=\"https://colab.research.google.com/assets/colab-badge.svg\" alt=\"Open In Colab\"/></a>"
      ]
    },
    {
      "cell_type": "code",
      "execution_count": null,
      "metadata": {
        "id": "0_ot6NoFkfh2"
      },
      "outputs": [],
      "source": []
    },
    {
      "cell_type": "markdown",
      "source": [
        "**1 What is Object-Oriented Programming (OOPs)**?"
      ],
      "metadata": {
        "id": "WyR9C-xzkrHe"
      }
    },
    {
      "cell_type": "markdown",
      "source": [
        "Ans:Object-Oriented Programming (OOP) is a programming paradigm that uses objects and classes to structure software programs. It aims to implement real-world entities like inheritance, hiding, polymorphism, etc., in programming\n",
        "The main goal of OOP is to bind together the data and the functions that operate on them, ensuring that no other part of the code can access this data except through the defined function."
      ],
      "metadata": {
        "id": "mSJSEh5JkxTL"
      }
    },
    {
      "cell_type": "markdown",
      "source": [
        "**2. What is a class in OOPs**"
      ],
      "metadata": {
        "id": "1QRWJHnAlJx_"
      }
    },
    {
      "cell_type": "markdown",
      "source": [
        "Ans:A class is a user-defined data type that acts as a blueprint for creating objects. It consists of data members and member functions, which can be accessed and used by creating an instance of that class.\n",
        "For example, a class Car may have properties like wheels, speed_limit, and mileage."
      ],
      "metadata": {
        "id": "cbEYbQ3JlSvU"
      }
    },
    {
      "cell_type": "markdown",
      "source": [
        "**3 What is an object in OOPs**"
      ],
      "metadata": {
        "id": "eAo7NJ_wlm4L"
      }
    },
    {
      "cell_type": "markdown",
      "source": [
        "Ans:An object is an instance of a class and represents real-life entities. When a class is defined, no memory is allocated, but when it is instantiated (i.e., an object is created), memory is allocated\n",
        ". For example, myCar can be an object of the class Car."
      ],
      "metadata": {
        "id": "9DhUuwRglqtb"
      }
    },
    {
      "cell_type": "markdown",
      "source": [
        "**4. What is the difference between abstraction and encapsulation?**"
      ],
      "metadata": {
        "id": "a0nLIob3l088"
      }
    },
    {
      "cell_type": "markdown",
      "source": [
        "Ans:Abstraction is the process or method of gaining the information. \tWhile encapsulation is the process or method to contain the information.\n",
        "2. \tIn abstraction, problems are solved at the design or interface level. \tWhile in encapsulation, problems are solved at the implementation level."
      ],
      "metadata": {
        "id": "WnuCRg_Nl8Ac"
      }
    },
    {
      "cell_type": "markdown",
      "source": [
        "**5. What are dunder methods in Python**"
      ],
      "metadata": {
        "id": "BypIQWbGmu2S"
      }
    },
    {
      "cell_type": "markdown",
      "source": [
        "Ans:Dunder methods, short for \"double underscore\" methods, are special methods in Python that have double underscores before and after their names (e.g., __init__, __str__). These methods allow you to define the behavior of your objects for built-in operations and functions"
      ],
      "metadata": {
        "id": "3cRYTJ0VzeMt"
      }
    },
    {
      "cell_type": "markdown",
      "source": [
        "**6. Explain the concept of inheritance in OOPs.**"
      ],
      "metadata": {
        "id": "HSdwl2z4zwRS"
      }
    },
    {
      "cell_type": "markdown",
      "source": [
        "Ans:Inheritance in Object-Oriented Programming (OOP) is a fundamental concept where a new class, known as a child or subclass, acquires the properties and behaviors (methods) of an existing class, referred to as a parent or superclass."
      ],
      "metadata": {
        "id": "y9dVELp9z6Po"
      }
    },
    {
      "cell_type": "markdown",
      "source": [
        "**7.What is polymorphism in OOPs.**"
      ],
      "metadata": {
        "id": "IMr1OREh0Ho2"
      }
    },
    {
      "cell_type": "markdown",
      "source": [
        "Ans:Polymorphism is a fundamental concept in object-oriented programming (OOP) that allows methods, functions, or operators to operate on different types of objects. The term \"polymorphism\" means \"many forms,\" and it enables a single interface to represent different underlying forms (data types)."
      ],
      "metadata": {
        "id": "1H2G4WgO0PG8"
      }
    },
    {
      "cell_type": "markdown",
      "source": [
        "**8. How is encapsulation achieved in Python?**"
      ],
      "metadata": {
        "id": "PupYXjJA0mPX"
      }
    },
    {
      "cell_type": "markdown",
      "source": [
        "Ans:Encapsulation is a fundamental concept in object-oriented programming (OOP) that involves bundling data (attributes) and methods (functions) that operate on the data into a single unit called a class. This concept helps in restricting direct access to some of an object's components, providing a controlled interface to interact with the object's internal state\n",
        "1\n",
        "2\n",
        ".\n",
        "\n",
        "Implementing Encapsulation in Python\n",
        "\n",
        "In Python, encapsulation is achieved through the use of access modifiers that control the visibility of class attributes and methods from outside the class. The three common access modifiers are:\n",
        "\n",
        "    Public Members: These are accessible from outside the class. By default, attributes and methods are public.\n",
        "\n",
        "    Protected Members: These are accessible within the class and its subclasses. They are indicated by a single underscore (_) prefix.\n",
        "\n",
        "    Private Members: These are only accessible within the class. They are indicated by a double underscore (__) prefix\n",
        "    \n"
      ],
      "metadata": {
        "id": "P-czSfrK0uAO"
      }
    },
    {
      "cell_type": "markdown",
      "source": [
        "**9. What is a constructor in Python?**"
      ],
      "metadata": {
        "id": "6qJt-OEm1ImF"
      }
    },
    {
      "cell_type": "markdown",
      "source": [
        "In Python, a constructor is a special method that is called automatically when an object is created from a class. Its main role is to initialize the object by setting up its attributes or state.\n",
        "\n",
        "The method __new__ is the constructor that creates a new instance of the class while __init__ is the initializer that sets up the instance’s attributes after creation. These methods work together to manage object creation and initialization."
      ],
      "metadata": {
        "id": "bd_DRuHs1SrV"
      }
    },
    {
      "cell_type": "markdown",
      "source": [
        "**10. What are class and static methods in Python?**"
      ],
      "metadata": {
        "id": "c-J8XORp11VJ"
      }
    },
    {
      "cell_type": "markdown",
      "source": [
        "Ans:\n",
        "    Class Methods: Can modify class state that applies across all instances. They take cls as the first parameter.-f\n",
        "\n",
        "    \n",
        "    Static Methods: Cannot modify class or instance state. They do not take self or cls as the first parameter"
      ],
      "metadata": {
        "id": "CGmstTGO17UX"
      }
    },
    {
      "cell_type": "markdown",
      "source": [
        "**11 What is method overloading in Python?**"
      ],
      "metadata": {
        "id": "Xq1UEgMa3AHN"
      }
    },
    {
      "cell_type": "markdown",
      "source": [
        "Ans:Two or more methods have the same name but different numbers of parameters or different types of parameters, or both. These methods are called overloaded methods and this is called method overloading."
      ],
      "metadata": {
        "id": "0_NcQxfX3Xtj"
      }
    },
    {
      "cell_type": "markdown",
      "source": [
        "**12. What is method overriding in OOPs?**"
      ],
      "metadata": {
        "id": "5KxQ_Hju4JDl"
      }
    },
    {
      "cell_type": "markdown",
      "source": [
        "Ans:Method overriding is a fundamental concept in Object-Oriented Programming (OOP) that allows a subclass to provide a specific implementation of a method that is already defined in its superclass. This is particularly useful when you want to modify or extend the behavior of inherited methods."
      ],
      "metadata": {
        "id": "kVGiaPZ94Qzr"
      }
    },
    {
      "cell_type": "markdown",
      "source": [
        "**13.What is a property decorator in Python?**"
      ],
      "metadata": {
        "id": "p8OpR3404kHE"
      }
    },
    {
      "cell_type": "markdown",
      "source": [
        "Ans:In Python, decorators are a powerful and flexible way to modify or extend the behavior of functions or methods, without changing their actual code. A decorator is essentially a function that takes another function as an argument and returns a new function with enhanced functionality.\n",
        "\n",
        "Decorators are often used in scenarios such as logging, authentication and memorization, allowing us to add additional functionality to existing functions or methods in a clean, reusable way."
      ],
      "metadata": {
        "id": "Wr5GBmam4v5c"
      }
    },
    {
      "cell_type": "markdown",
      "source": [
        "14.Why is polymorphism important in OOPs?\n"
      ],
      "metadata": {
        "id": "DK1lku1F48_L"
      }
    },
    {
      "cell_type": "markdown",
      "source": [
        "Ans:Polymorphism in OOP allows a single interface to be used for different data types. It enables the same function name to perform different tasks based on the object that invokes it. This characteristic ensures that a program can process objects differently while using the same interface."
      ],
      "metadata": {
        "id": "4FwHuVNn5PzD"
      }
    },
    {
      "cell_type": "markdown",
      "source": [
        "**15.What is an abstract class in Python?**"
      ],
      "metadata": {
        "id": "AYZMmcFN5iuK"
      }
    },
    {
      "cell_type": "markdown",
      "source": [
        "Ans:It defines methods that must be implemented by its subclasses, ensuring that the subclasses follow a consistent structure. ABCs allow you to define common interfaces that various subclasses can implement while enforcing a level of abstraction."
      ],
      "metadata": {
        "id": "GcaAASWJ5r1i"
      }
    },
    {
      "cell_type": "markdown",
      "source": [
        "**16. What are the advantages of OOPs.**"
      ],
      "metadata": {
        "id": "CHtTywWW52ni"
      }
    },
    {
      "cell_type": "markdown",
      "source": [
        "Ans:OOPS systems can be easily upgraded from small to large systems.-f\n",
        "\n",
        "\n",
        "It is possible that multiple instances of objects co-exist without any interference-f\n",
        "\n",
        "\n",
        "It is very easy to partition the work in a project based on objects.-f\n",
        "\n",
        "\n",
        "It is possible to map the objects in problem domain to those in the program"
      ],
      "metadata": {
        "id": "byvfLLsi6EDF"
      }
    },
    {
      "cell_type": "markdown",
      "source": [
        "** What is the difference between a class variable and an instance variable?**"
      ],
      "metadata": {
        "id": "WHQSKeXs6Vqj"
      }
    },
    {
      "cell_type": "markdown",
      "source": [
        "Ans:INSTANCE VARIABLES:-F\n",
        "\n",
        "It is basically a class variable without a static modifier and is usually shared by all class instances. Across different objects, these variables can have different values. They are tied to a particular object instance of the class, therefore, the contents of an instance variable are totally independent of one object instance to others.\n",
        "-F\n",
        "\n",
        "CLASS VARIABLE:-F\n",
        "\n",
        "It is basically a static variable that can be declared anywhere at class level with static. Across different objects, these variables can have only one value. These variables are not tied to any particular object of the class, therefore, can share across all objects of the class."
      ],
      "metadata": {
        "id": "HdyDcVl_6eun"
      }
    },
    {
      "cell_type": "markdown",
      "source": [
        "**18.What is multiple inheritance in Python?**"
      ],
      "metadata": {
        "id": "oirDhfZY7DU0"
      }
    },
    {
      "cell_type": "markdown",
      "source": [
        "Ans:When a class is derived from more than one base class it is called multiple Inheritance. The derived class inherits all the features of the base case.\n",
        ""
      ],
      "metadata": {
        "id": "dAcCkYGW7NMs"
      }
    },
    {
      "cell_type": "markdown",
      "source": [
        "** 19.Explain the purpose of ‘’__str__’ and ‘__repr__’ ‘ methods in Python?**"
      ],
      "metadata": {
        "id": "jEFUWQ_k7YD7"
      }
    },
    {
      "cell_type": "markdown",
      "source": [
        "Ans:n Python, the str() and repr() functions are used to obtain string representations of objects. While they may seem similar at first glance, there are some differences in how they behave. Both of the functions can be helpful in debugging or printing useful information about the object.\n",
        "\n",
        "\n"
      ],
      "metadata": {
        "id": "cqVJ5p1F7fXq"
      }
    },
    {
      "cell_type": "markdown",
      "source": [
        "**20. What is the significance of the ‘super()’ function in Python?**"
      ],
      "metadata": {
        "id": "PvhGWMo-9gzJ"
      }
    },
    {
      "cell_type": "markdown",
      "source": [
        "Ans:The super() function is used to refer to the parent class or superclass. It allows you to call methods defined in the superclass from the subclass, enabling you to extend and customize the functionality inherited from the parent class."
      ],
      "metadata": {
        "id": "zZqRTdTw9kp7"
      }
    },
    {
      "cell_type": "markdown",
      "source": [
        "**21 What is the significance of the __del__ method in Python?**"
      ],
      "metadata": {
        "id": "0mZr18HR9wyC"
      }
    },
    {
      "cell_type": "markdown",
      "source": [
        "Ans:The __del__ method in Python is known as a destructor. It's called when an object is about to be destroyed, which typically happens when there are no more references to the object."
      ],
      "metadata": {
        "id": "0orry6a894ik"
      }
    },
    {
      "cell_type": "markdown",
      "source": [
        "**22. What is the difference between @staticmethod and @classmethod in Python?**"
      ],
      "metadata": {
        "id": "OxEN-b09-Fmk"
      }
    },
    {
      "cell_type": "markdown",
      "source": [
        "Ans:Difference between @classmethod and @staticmethod-f\n",
        "\n",
        "\n",
        "The @classmethod takes cls as first parameter. \tThe @staticmethod needs no specific parameters.-f\n",
        "\n",
        "\n",
        "The @classmethod can access or modify the class state. \tThe @staticmethod cannot access the class state.-f\n",
        "\n",
        "\n",
        "The @classmethod must have parameters. \tThe @staticmethod knows nothing about the class state and is similar to utility methods."
      ],
      "metadata": {
        "id": "z1OjG3IT-Le5"
      }
    },
    {
      "cell_type": "markdown",
      "source": [
        "** 23.How does polymorphism work in Python with inheritance?**"
      ],
      "metadata": {
        "id": "tHU67Fvr-x6t"
      }
    },
    {
      "cell_type": "markdown",
      "source": [
        "Ans:Polymorphism in Python, especially when combined with inheritance, is a core concept of object-oriented programming (OOP) that allows different classes to be treated as instances of the same class through a common interface. It enables a single function or method to work in different ways depending on the object it’s acting upon.\n",
        "How it works:\n",
        "\n",
        "Inheritance: You define a base (or parent) class with a method.\n",
        "\n",
        "Subclassing: You create one or more subclasses that inherit from the base class and override the method.\n",
        "\n",
        "Polymorphism: You can call the overridden method on any subclass object through a reference to the base class, and the correct method is automatically chosen based on the object’s actual class."
      ],
      "metadata": {
        "id": "6BvzIbNG-_wg"
      }
    },
    {
      "cell_type": "markdown",
      "source": [
        "**24. What is method chaining in Python OOPs?**"
      ],
      "metadata": {
        "id": "tPV0UGdiCr8L"
      }
    },
    {
      "cell_type": "markdown",
      "source": [
        "Ans:Method chaining in Python is a technique in object-oriented programming  where you call multiple methods on the same object in a single line, one after another. This is possible when each method returns self so that the next method can be called on it."
      ],
      "metadata": {
        "id": "U6m6S84RC0G6"
      }
    },
    {
      "cell_type": "markdown",
      "source": [
        "**25.What is the purpose of the __call__ method in Python?**"
      ],
      "metadata": {
        "id": "1-tXTKtdDGMO"
      }
    },
    {
      "cell_type": "markdown",
      "source": [
        "Ans:Python has a set of built-in methods and __call__ is one of them. The __call__ method enables Python programmers to write classes where the instances behave like functions and can be called like a function. When this method is defined, calling an object (obj(arg1, arg2)) automatically triggers obj.__call__(arg1, arg2). This makes objects behave like functions, enabling more flexible and reusable code."
      ],
      "metadata": {
        "id": "xdEQz6wLDRVf"
      }
    },
    {
      "cell_type": "markdown",
      "source": [
        "**PRACTICAL QUEESTIONS**"
      ],
      "metadata": {
        "id": "RJnxUI2PZlTS"
      }
    },
    {
      "cell_type": "markdown",
      "source": [
        "1. Create a parent class Animal with a method speak() that prints a generic message. Create a child class Dog\n",
        "that overrides the speak() method to print \"Bark!\"."
      ],
      "metadata": {
        "id": "mJSX2ezYZvyt"
      }
    },
    {
      "cell_type": "code",
      "source": [
        "# Parent class\n",
        "class Animal:\n",
        "    def speak(self):\n",
        "        print(\"The animal makes a sound.\")\n",
        "\n",
        "# Child class\n",
        "class Dog(Animal):\n",
        "    def speak(self):\n",
        "        print(\"Bark!\")\n",
        "\n",
        "# Example usage\n",
        "animal = Animal()\n",
        "animal.speak()  # Output: The animal makes a sound.\n",
        "\n",
        "dog = Dog()\n",
        "dog.speak()     # Output: Bark!\n"
      ],
      "metadata": {
        "colab": {
          "base_uri": "https://localhost:8080/"
        },
        "id": "80UMPgtkZ0s0",
        "outputId": "719e8291-d8cc-41c1-e009-b6f454f14971"
      },
      "execution_count": 1,
      "outputs": [
        {
          "output_type": "stream",
          "name": "stdout",
          "text": [
            "The animal makes a sound.\n",
            "Bark!\n"
          ]
        }
      ]
    },
    {
      "cell_type": "markdown",
      "source": [
        "2. Write a program to create an abstract class Shape with a method area(). Derive classes Circle and Rectangle\n",
        "from it and implement the area() method in both"
      ],
      "metadata": {
        "id": "sBU_QQ2oaLtO"
      }
    },
    {
      "cell_type": "code",
      "source": [
        "from abc import ABC, abstractmethod\n",
        "import math\n",
        "\n",
        "# Abstract class\n",
        "class Shape(ABC):\n",
        "    @abstractmethod\n",
        "    def area(self):\n",
        "        pass\n",
        "\n",
        "# Derived class: Circle\n",
        "class Circle(Shape):\n",
        "    def __init__(self, radius):\n",
        "        self.radius = radius\n",
        "\n",
        "    def area(self):\n",
        "        return math.pi * self.radius ** 2\n",
        "\n",
        "# Derived class: Rectangle\n",
        "class Rectangle(Shape):\n",
        "    def __init__(self, width, height):\n",
        "        self.width = width\n",
        "        self.height = height\n",
        "\n",
        "    def area(self):\n",
        "        return self.width * self.height\n",
        "\n",
        "# Example usage\n",
        "circle = Circle(5)\n",
        "rectangle = Rectangle(4, 6)\n",
        "\n",
        "print(f\"Circle Area: {circle.area():.2f}\")      # Output: Circle Area: 78.54\n",
        "print(f\"Rectangle Area: {rectangle.area()}\")    # Output: Rectangle Area: 24\n"
      ],
      "metadata": {
        "colab": {
          "base_uri": "https://localhost:8080/"
        },
        "id": "5-CdqGB3adQl",
        "outputId": "de38f2d9-f470-411e-a962-14c7e89446f7"
      },
      "execution_count": 2,
      "outputs": [
        {
          "output_type": "stream",
          "name": "stdout",
          "text": [
            "Circle Area: 78.54\n",
            "Rectangle Area: 24\n"
          ]
        }
      ]
    },
    {
      "cell_type": "markdown",
      "source": [
        "3. Implement a multi-level inheritance scenario where a class Vehicle has an attribute type. Derive a class Car\n",
        "and further derive a class ElectricCar that adds a battery attribute.\n"
      ],
      "metadata": {
        "id": "4nEOmspOahXc"
      }
    },
    {
      "cell_type": "code",
      "source": [
        "# Base class\n",
        "class Vehicle:\n",
        "    def __init__(self, vehicle_type):\n",
        "        self.type = vehicle_type\n",
        "\n",
        "    def show_type(self):\n",
        "        print(f\"Vehicle type: {self.type}\")\n",
        "\n",
        "# Derived class from Vehicle\n",
        "class Car(Vehicle):\n",
        "    def __init__(self, vehicle_type, brand):\n",
        "        super().__init__(vehicle_type)\n",
        "        self.brand = brand\n",
        "\n",
        "    def show_brand(self):\n",
        "        print(f\"Car brand: {self.brand}\")\n",
        "\n",
        "# Derived class from Car\n",
        "class ElectricCar(Car):\n",
        "    def __init__(self, vehicle_type, brand, battery_capacity):\n",
        "        super().__init__(vehicle_type, brand)\n",
        "        self.battery = battery_capacity\n",
        "\n",
        "    def show_battery(self):\n",
        "        print(f\"Battery capacity: {self.battery} kWh\")\n",
        "\n",
        "# Example usage\n",
        "my_tesla = ElectricCar(\"Four-wheeler\", \"Tesla\", 75)\n",
        "\n",
        "my_tesla.show_type()      # Output: Vehicle type: Four-wheeler\n",
        "my_tesla.show_brand()     # Output: Car brand: Tesla\n",
        "my_tesla.show_battery()   # Output: Battery capacity: 75 kWh\n"
      ],
      "metadata": {
        "colab": {
          "base_uri": "https://localhost:8080/"
        },
        "id": "5FgvItPSalyn",
        "outputId": "018783ef-7b58-4861-87d7-17c3a4e267aa"
      },
      "execution_count": 3,
      "outputs": [
        {
          "output_type": "stream",
          "name": "stdout",
          "text": [
            "Vehicle type: Four-wheeler\n",
            "Car brand: Tesla\n",
            "Battery capacity: 75 kWh\n"
          ]
        }
      ]
    },
    {
      "cell_type": "markdown",
      "source": [
        "4. Demonstrate polymorphism by creating a base class Bird with a method fly(). Create two derived classes\n",
        "Sparrow and Penguin that override the fly() method"
      ],
      "metadata": {
        "id": "Ek1hmAIzbDEv"
      }
    },
    {
      "cell_type": "code",
      "source": [
        "# Base class\n",
        "class Bird:\n",
        "    def fly(self):\n",
        "        print(\"Some bird is flying...\")\n",
        "\n",
        "# Derived class: Sparrow\n",
        "class Sparrow(Bird):\n",
        "    def fly(self):\n",
        "        print(\"Sparrow flies high in the sky!\")\n",
        "\n",
        "# Derived class: Penguin\n",
        "class Penguin(Bird):\n",
        "    def fly(self):\n",
        "        print(\"Penguins can't fly, but they swim really well!\")\n",
        "\n",
        "# Polymorphic function\n",
        "def bird_flight(bird):\n",
        "    bird.fly()\n",
        "\n",
        "# Example usage\n",
        "sparrow = Sparrow()\n",
        "penguin = Penguin()\n",
        "\n",
        "bird_flight(sparrow)  # Output: Sparrow flies high in the sky!\n",
        "bird_flight(penguin)  # Output: Penguins can't fly, but they swim really well!\n"
      ],
      "metadata": {
        "colab": {
          "base_uri": "https://localhost:8080/"
        },
        "id": "-m0kQNZJbIDQ",
        "outputId": "351a2681-9ade-465d-c960-9e6b949a976f"
      },
      "execution_count": 4,
      "outputs": [
        {
          "output_type": "stream",
          "name": "stdout",
          "text": [
            "Sparrow flies high in the sky!\n",
            "Penguins can't fly, but they swim really well!\n"
          ]
        }
      ]
    },
    {
      "cell_type": "markdown",
      "source": [
        "5. Write a program to demonstrate encapsulation by creating a class BankAccount with private attributes\n",
        "balance and methods to deposit, withdraw, and check balance.\n"
      ],
      "metadata": {
        "id": "iTBuJd16bRNW"
      }
    },
    {
      "cell_type": "code",
      "source": [
        "class BankAccount:\n",
        "    def __init__(self, initial_balance=0):\n",
        "        self.__balance = initial_balance  # Private attribute\n",
        "\n",
        "    def deposit(self, amount):\n",
        "        if amount > 0:\n",
        "            self.__balance += amount\n",
        "            print(f\"Deposited: ${amount}\")\n",
        "        else:\n",
        "            print(\"Invalid deposit amount!\")\n",
        "\n",
        "    def withdraw(self, amount):\n",
        "        if 0 < amount <= self.__balance:\n",
        "            self.__balance -= amount\n",
        "            print(f\"Withdrew: ${amount}\")\n",
        "        else:\n",
        "            print(\"Insufficient funds or invalid amount!\")\n",
        "\n",
        "    def check_balance(self):\n",
        "        print(f\"Current balance: ${self.__balance}\")\n",
        "\n",
        "# Example usage\n",
        "account = BankAccount(100)\n",
        "account.check_balance()     # Output: Current balance: $100\n",
        "account.deposit(50)         # Output: Deposited: $50\n",
        "account.withdraw(30)        # Output: Withdrew: $30\n",
        "account.check_balance()     # Output: Current balance: $120\n",
        "\n",
        "# Trying to access the private attribute directly (not recommended)\n",
        "# print(account.__balance)  # This will raise an AttributeError\n"
      ],
      "metadata": {
        "colab": {
          "base_uri": "https://localhost:8080/"
        },
        "id": "zW7gOsSHbYMb",
        "outputId": "ef28f172-23ab-4b8c-c933-64345f787f91"
      },
      "execution_count": 6,
      "outputs": [
        {
          "output_type": "stream",
          "name": "stdout",
          "text": [
            "Current balance: $100\n",
            "Deposited: $50\n",
            "Withdrew: $30\n",
            "Current balance: $120\n"
          ]
        }
      ]
    },
    {
      "cell_type": "markdown",
      "source": [
        "6. Demonstrate runtime polymorphism using a method play() in a base class Instrument. Derive classes Guitar\n",
        "and Piano that implement their own version of play()."
      ],
      "metadata": {
        "id": "8nr1vQlxbfco"
      }
    },
    {
      "cell_type": "code",
      "source": [
        "# Base class\n",
        "class Instrument:\n",
        "    def play(self):\n",
        "        print(\"Playing some instrument...\")\n",
        "\n",
        "# Derived class: Guitar\n",
        "class Guitar(Instrument):\n",
        "    def play(self):\n",
        "        print(\"Strumming the guitar\")\n",
        "\n",
        "# Derived class: Piano\n",
        "class Piano(Instrument):\n",
        "    def play(self):\n",
        "        print(\"Playing the piano \")\n",
        "\n",
        "# Polymorphic function\n",
        "def perform(instrument):\n",
        "    instrument.play()\n",
        "\n",
        "# Example usage\n",
        "guitar = Guitar()\n",
        "piano = Piano()\n",
        "\n",
        "perform(guitar)  # Output: Strumming the guitar\n",
        "perform(piano)   # Output: Playing the piano\n"
      ],
      "metadata": {
        "colab": {
          "base_uri": "https://localhost:8080/"
        },
        "id": "wHO0CL41bkF6",
        "outputId": "fb719f4d-b14c-4ec5-bcea-c25722c4295b"
      },
      "execution_count": 7,
      "outputs": [
        {
          "output_type": "stream",
          "name": "stdout",
          "text": [
            "Strumming the guitar\n",
            "Playing the piano \n"
          ]
        }
      ]
    },
    {
      "cell_type": "markdown",
      "source": [
        "7. Create a class MathOperations with a class method add_numbers() to add two numbers and a static\n",
        "method subtract_numbers() to subtract two numbers.\n"
      ],
      "metadata": {
        "id": "liOSsvnDbv_e"
      }
    },
    {
      "cell_type": "code",
      "source": [
        "class MathOperations:\n",
        "    @classmethod\n",
        "    def add_numbers(cls, a, b):\n",
        "        return a + b\n",
        "\n",
        "    @staticmethod\n",
        "    def subtract_numbers(a, b):\n",
        "        return a - b\n",
        "\n",
        "# Example usage\n",
        "sum_result = MathOperations.add_numbers(10, 5)\n",
        "print(f\"Sum: {sum_result}\")  # Output: Sum: 15\n",
        "\n",
        "diff_result = MathOperations.subtract_numbers(10, 5)\n",
        "print(f\"Difference: {diff_result}\")  # Output: Difference: 5\n"
      ],
      "metadata": {
        "colab": {
          "base_uri": "https://localhost:8080/"
        },
        "id": "cJSn642Jb0kj",
        "outputId": "d692a940-3ffd-4612-e878-87884f80f57f"
      },
      "execution_count": 8,
      "outputs": [
        {
          "output_type": "stream",
          "name": "stdout",
          "text": [
            "Sum: 15\n",
            "Difference: 5\n"
          ]
        }
      ]
    },
    {
      "cell_type": "markdown",
      "source": [
        "8. Implement a class Person with a class method to count the total number of persons created"
      ],
      "metadata": {
        "id": "99j9yFJAb9Dh"
      }
    },
    {
      "cell_type": "code",
      "source": [
        "class Person:\n",
        "    count = 0  # Class variable to keep track of number of persons\n",
        "\n",
        "    def __init__(self, name):\n",
        "        self.name = name\n",
        "        Person.count += 1  # Increment count whenever a new person is created\n",
        "\n",
        "    @classmethod\n",
        "    def total_persons(cls):\n",
        "        return cls.count\n",
        "\n",
        "# Example usage\n",
        "p1 = Person(\"Alice\")\n",
        "p2 = Person(\"Bob\")\n",
        "p3 = Person(\"Charlie\")\n",
        "\n",
        "print(f\"Total persons created: {Person.total_persons()}\")  # Output: Total persons created: 3\n"
      ],
      "metadata": {
        "colab": {
          "base_uri": "https://localhost:8080/"
        },
        "id": "RlmCVshocLjI",
        "outputId": "997b3b30-350e-447e-e496-b9c2cd63cb7d"
      },
      "execution_count": 10,
      "outputs": [
        {
          "output_type": "stream",
          "name": "stdout",
          "text": [
            "Total persons created: 3\n"
          ]
        }
      ]
    },
    {
      "cell_type": "markdown",
      "source": [
        "9. Write a class Fraction with attributes numerator and denominator. Override the str method to display the\n",
        "fraction as \"numerator/denominator\""
      ],
      "metadata": {
        "id": "79lxUJkhcWuq"
      }
    },
    {
      "cell_type": "code",
      "source": [
        "class Fraction:\n",
        "    def __init__(self, numerator, denominator):\n",
        "        self.numerator = numerator\n",
        "        self.denominator = denominator\n",
        "\n",
        "    def __str__(self):\n",
        "        return f\"{self.numerator}/{self.denominator}\"\n",
        "\n",
        "# Example usage\n",
        "f1 = Fraction(3, 4)\n",
        "f2 = Fraction(5, 8)\n",
        "\n",
        "print(f1)  # Output: 3/4\n",
        "print(f2)  # Output: 5/8\n"
      ],
      "metadata": {
        "colab": {
          "base_uri": "https://localhost:8080/"
        },
        "id": "9a1seQyicaih",
        "outputId": "5ada6a14-171c-41ff-c85a-8aedffc3c88a"
      },
      "execution_count": 11,
      "outputs": [
        {
          "output_type": "stream",
          "name": "stdout",
          "text": [
            "3/4\n",
            "5/8\n"
          ]
        }
      ]
    },
    {
      "cell_type": "markdown",
      "source": [
        "10. Demonstrate operator overloading by creating a class Vector and overriding the add method to add two\n",
        "vectors."
      ],
      "metadata": {
        "id": "Q3an3gTkch0j"
      }
    },
    {
      "cell_type": "code",
      "source": [
        "class Vector:\n",
        "    def __init__(self, x, y):\n",
        "        self.x = x\n",
        "        self.y = y\n",
        "\n",
        "    # Overloading the + operator to add two vectors\n",
        "    def __add__(self, other):\n",
        "        # Add the corresponding components of the vectors\n",
        "        return Vector(self.x + other.x, self.y + other.y)\n",
        "\n",
        "    def __str__(self):\n",
        "        return f\"({self.x}, {self.y})\"\n",
        "\n",
        "# Example usage\n",
        "v1 = Vector(3, 4)\n",
        "v2 = Vector(1, 2)\n",
        "\n",
        "v3 = v1 + v2  # This calls the __add__ method\n",
        "\n",
        "print(f\"v1: {v1}\")  # Output: v1: (3, 4)\n",
        "print(f\"v2: {v2}\")  # Output: v2: (1, 2)\n",
        "print(f\"v3: {v3}\")  # Output: v3: (4, 6)\n"
      ],
      "metadata": {
        "colab": {
          "base_uri": "https://localhost:8080/"
        },
        "id": "uJKhc-c5cmHu",
        "outputId": "e539c110-8e3e-4de0-fb87-466f9933d7b5"
      },
      "execution_count": 13,
      "outputs": [
        {
          "output_type": "stream",
          "name": "stdout",
          "text": [
            "v1: (3, 4)\n",
            "v2: (1, 2)\n",
            "v3: (4, 6)\n"
          ]
        }
      ]
    },
    {
      "cell_type": "markdown",
      "source": [
        "11. Create a class Person with attributes name and age. Add a method greet() that prints \"Hello, my name is\n",
        "{name} and I am {age} years old.\"\n"
      ],
      "metadata": {
        "id": "z9ijtPcxctXD"
      }
    },
    {
      "cell_type": "code",
      "source": [
        "class Person:\n",
        "    def __init__(self, name, age):\n",
        "        self.name = name\n",
        "        self.age = age\n",
        "\n",
        "    def greet(self):\n",
        "        print(f\"Hello, my name is {self.name} and I am {self.age} years old.\")\n",
        "\n",
        "# Example usage\n",
        "person1 = Person(\"SHWETA\", 30)\n",
        "person2 = Person(\"ANU\", 25)\n",
        "\n",
        "person1.greet()  # Output: Hello, my name is Alice and I am 30 years old.\n",
        "person2.greet()  # Output: Hello, my name is Bob and I am 25 years old.\n"
      ],
      "metadata": {
        "colab": {
          "base_uri": "https://localhost:8080/"
        },
        "id": "A4VOWG-zfAzv",
        "outputId": "8f45e86c-0bcf-4e35-be2a-f6eb5f4134f6"
      },
      "execution_count": 14,
      "outputs": [
        {
          "output_type": "stream",
          "name": "stdout",
          "text": [
            "Hello, my name is SHWETA and I am 30 years old.\n",
            "Hello, my name is ANU and I am 25 years old.\n"
          ]
        }
      ]
    },
    {
      "cell_type": "markdown",
      "source": [
        "12. Implement a class Student with attributes name and grades. Create a method average_grade() to compute\n",
        "the average of the grades"
      ],
      "metadata": {
        "id": "aLSj72NVfTae"
      }
    },
    {
      "cell_type": "code",
      "source": [
        "class Student:\n",
        "    def __init__(self, name, grades):\n",
        "        self.name = name\n",
        "        self.grades = grades  # This should be a list of grades\n",
        "\n",
        "    def average_grade(self):\n",
        "        if len(self.grades) > 0:\n",
        "            return sum(self.grades) / len(self.grades)\n",
        "        else:\n",
        "            return 0  # Avoid division by zero if there are no grades\n",
        "\n",
        "# Example usage\n",
        "student1 = Student(\"shweta\", [85, 90, 88, 92])\n",
        "student2 = Student(\"Ashish\", [78, 85, 84, 80])\n",
        "\n",
        "print(f\"{student1.name}'s average grade: {student1.average_grade():.2f}\")  # Output: Alice's average grade: 88.75\n",
        "print(f\"{student2.name}'s average grade: {student2.average_grade():.2f}\")  # Output: Bob's average grade: 81.75\n"
      ],
      "metadata": {
        "colab": {
          "base_uri": "https://localhost:8080/"
        },
        "id": "FywvIhzmfUyy",
        "outputId": "c9791c26-057e-4575-d7aa-d8615b276492"
      },
      "execution_count": 15,
      "outputs": [
        {
          "output_type": "stream",
          "name": "stdout",
          "text": [
            "shweta's average grade: 88.75\n",
            "Ashish's average grade: 81.75\n"
          ]
        }
      ]
    },
    {
      "cell_type": "markdown",
      "source": [
        "13. Create a class Rectangle with methods set_dimensions() to set the dimensions and area() to calculate the\n",
        "area"
      ],
      "metadata": {
        "id": "qXgemTXkfiST"
      }
    },
    {
      "cell_type": "code",
      "source": [
        "class Rectangle:\n",
        "    def __init__(self):\n",
        "        self.width = 0\n",
        "        self.height = 0\n",
        "\n",
        "    # Method to set dimensions\n",
        "    def set_dimensions(self, width, height):\n",
        "        self.width = width\n",
        "        self.height = height\n",
        "\n",
        "    # Method to calculate area\n",
        "    def area(self):\n",
        "        return self.width * self.height\n",
        "\n",
        "# Example usage\n",
        "rect = Rectangle()\n",
        "rect.set_dimensions(5, 3)\n",
        "\n",
        "print(f\"Area of the rectangle: {rect.area()}\")  # Output: Area of the rectangle: 15\n"
      ],
      "metadata": {
        "colab": {
          "base_uri": "https://localhost:8080/"
        },
        "id": "mqAaU_M8fnrN",
        "outputId": "024922a9-8002-4941-b641-c9fe190f5379"
      },
      "execution_count": 16,
      "outputs": [
        {
          "output_type": "stream",
          "name": "stdout",
          "text": [
            "Area of the rectangle: 15\n"
          ]
        }
      ]
    },
    {
      "cell_type": "markdown",
      "source": [
        "14. Create a class Employee with a method calculate_salary() that computes the salary based on hours worked\n",
        "and hourly rate. Create a derived class Manager that adds a bonus to the salary."
      ],
      "metadata": {
        "id": "CKjEmtV7fukm"
      }
    },
    {
      "cell_type": "code",
      "source": [
        "# Base class: Employee\n",
        "class Employee:\n",
        "    def __init__(self, name, hours_worked, hourly_rate):\n",
        "        self.name = name\n",
        "        self.hours_worked = hours_worked\n",
        "        self.hourly_rate = hourly_rate\n",
        "\n",
        "    def calculate_salary(self):\n",
        "        # Salary is calculated as hours worked * hourly rate\n",
        "        return self.hours_worked * self.hourly_rate\n",
        "\n",
        "# Derived class: Manager\n",
        "class Manager(Employee):\n",
        "    def __init__(self, name, hours_worked, hourly_rate, bonus):\n",
        "        # Initialize base class (Employee) attributes\n",
        "        super().__init__(name, hours_worked, hourly_rate)\n",
        "        self.bonus = bonus  # Manager specific bonus\n",
        "\n",
        "    def calculate_salary(self):\n",
        "        # Salary for manager includes bonus\n",
        "        base_salary = super().calculate_salary()\n",
        "        return base_salary + self.bonus\n",
        "\n",
        "# Example usage\n",
        "employee = Employee(\"shweta\", 40, 20)  # 40 hours at $20/hour\n",
        "manager = Manager(\"harman\", 40, 30, 500)  # 40 hours at $30/hour with a $500 bonus\n",
        "\n",
        "print(f\"Employee salary: ${employee.calculate_salary()}\")  # Output: Employee salary: $800\n",
        "print(f\"Manager salary: ${manager.calculate_salary()}\")    # Output: Manager salary: $1700\n"
      ],
      "metadata": {
        "colab": {
          "base_uri": "https://localhost:8080/"
        },
        "id": "hZXbzzS0fya2",
        "outputId": "570ce7a3-369b-479f-c241-916913bbfc47"
      },
      "execution_count": 17,
      "outputs": [
        {
          "output_type": "stream",
          "name": "stdout",
          "text": [
            "Employee salary: $800\n",
            "Manager salary: $1700\n"
          ]
        }
      ]
    },
    {
      "cell_type": "markdown",
      "source": [
        "15. Create a class Product with attributes name, price, and quantity. Implement a method total_price() that\n",
        "calculates the total price of the product"
      ],
      "metadata": {
        "id": "VzhS1yZYf_RG"
      }
    },
    {
      "cell_type": "code",
      "source": [
        "class Product:\n",
        "    def __init__(self, name, price, quantity):\n",
        "        self.name = name\n",
        "        self.price = price\n",
        "        self.quantity = quantity\n",
        "\n",
        "    # Method to calculate the total price\n",
        "    def total_price(self):\n",
        "        return self.price * self.quantity\n",
        "\n",
        "# Example usage\n",
        "product1 = Product(\"Laptop\", 1000, 3)\n",
        "product2 = Product(\"Phone\", 500, 5)\n",
        "\n",
        "print(f\"Total price for {product1.name}: ${product1.total_price()}\")  # Output: Total price for Laptop: $3000\n",
        "print(f\"Total price for {product2.name}: ${product2.total_price()}\")  # Output: Total price for Phone: $2500\n"
      ],
      "metadata": {
        "colab": {
          "base_uri": "https://localhost:8080/"
        },
        "id": "5_KwyVwNgEEH",
        "outputId": "f98b0fdd-8dfc-437e-e811-c77aadf9cecf"
      },
      "execution_count": 18,
      "outputs": [
        {
          "output_type": "stream",
          "name": "stdout",
          "text": [
            "Total price for Laptop: $3000\n",
            "Total price for Phone: $2500\n"
          ]
        }
      ]
    },
    {
      "cell_type": "markdown",
      "source": [
        "16. Create a class Animal with an abstract method sound(). Create two derived classes Cow and Sheep that\n",
        "implement the sound() method"
      ],
      "metadata": {
        "id": "qeYKprYZgKiX"
      }
    },
    {
      "cell_type": "code",
      "source": [
        "from abc import ABC, abstractmethod\n",
        "\n",
        "# Abstract class\n",
        "class Animal(ABC):\n",
        "    @abstractmethod\n",
        "    def sound(self):\n",
        "        pass\n",
        "\n",
        "# Derived class: Cow\n",
        "class Cow(Animal):\n",
        "    def sound(self):\n",
        "        return \"Moo\"\n",
        "\n",
        "# Derived class: Sheep\n",
        "class Sheep(Animal):\n",
        "    def sound(self):\n",
        "        return \"Baa\"\n",
        "\n",
        "# Example usage\n",
        "cow = Cow()\n",
        "sheep = Sheep()\n",
        "\n",
        "print(f\"Cow sound: {cow.sound()}\")  # Output: Cow sound: Moo\n",
        "print(f\"Sheep sound: {sheep.sound()}\")  # Output: Sheep sound: Baa\n"
      ],
      "metadata": {
        "colab": {
          "base_uri": "https://localhost:8080/"
        },
        "id": "GJXKd2cvgOaT",
        "outputId": "cee95761-b3be-494d-f4fe-d1b9b70fa6ba"
      },
      "execution_count": 19,
      "outputs": [
        {
          "output_type": "stream",
          "name": "stdout",
          "text": [
            "Cow sound: Moo\n",
            "Sheep sound: Baa\n"
          ]
        }
      ]
    },
    {
      "cell_type": "markdown",
      "source": [
        "17. Create a class Book with attributes title, author, and year_published. Add a method get_book_info() that\n",
        "returns a formatted string with the book's details.\n"
      ],
      "metadata": {
        "id": "ub2S_Yw3gUtJ"
      }
    },
    {
      "cell_type": "code",
      "source": [
        "class Book:\n",
        "    def __init__(self, title, author, year_published):\n",
        "        self.title = title\n",
        "        self.author = author\n",
        "        self.year_published = year_published\n",
        "\n",
        "    # Method to return formatted book info\n",
        "    def get_book_info(self):\n",
        "        return f\"Title: {self.title}\\nAuthor: {self.author}\\nYear Published: {self.year_published}\"\n",
        "\n",
        "# Example usage\n",
        "book1 = Book(\"1984\", \"George Orwell\", 1949)\n",
        "book2 = Book(\"To Kill a Mockingbird\", \"Harper Lee\", 1960)\n",
        "\n",
        "print(book1.get_book_info())\n",
        "# Output:\n",
        "# Title: 1984\n",
        "# Author: George Orwell\n",
        "# Year Published: 1949\n",
        "\n",
        "print(book2.get_book_info())\n",
        "# Output:\n",
        "# Title: To Kill a Mockingbird\n",
        "# Author: Harper Lee\n",
        "# Year Published: 1960\n",
        "\n"
      ],
      "metadata": {
        "colab": {
          "base_uri": "https://localhost:8080/"
        },
        "id": "l-xtKWQugYDW",
        "outputId": "4e4b43ac-000f-45c5-bcee-26f90ef12840"
      },
      "execution_count": 20,
      "outputs": [
        {
          "output_type": "stream",
          "name": "stdout",
          "text": [
            "Title: 1984\n",
            "Author: George Orwell\n",
            "Year Published: 1949\n",
            "Title: To Kill a Mockingbird\n",
            "Author: Harper Lee\n",
            "Year Published: 1960\n"
          ]
        }
      ]
    },
    {
      "cell_type": "markdown",
      "source": [
        "18. Create a class House with attributes address and price. Create a derived class Mansion that adds an\n",
        "attribute number_of_rooms"
      ],
      "metadata": {
        "id": "wwaYjuCHglJs"
      }
    },
    {
      "cell_type": "code",
      "source": [
        "# Base class: House\n",
        "class House:\n",
        "    def __init__(self, address, price):\n",
        "        self.address = address\n",
        "        self.price = price\n",
        "\n",
        "    def get_house_info(self):\n",
        "        return f\"Address: {self.address}\\nPrice: ${self.price}\"\n",
        "\n",
        "# Derived class: Mansion\n",
        "class Mansion(House):\n",
        "    def __init__(self, address, price, number_of_rooms):\n",
        "        # Initialize attributes from the base class\n",
        "        super().__init__(address, price)\n",
        "        self.number_of_rooms = number_of_rooms\n",
        "\n",
        "    def get_mansion_info(self):\n",
        "        # Get information from the base class and add number of rooms\n",
        "        return f\"{self.get_house_info()}\\nNumber of rooms: {self.number_of_rooms}\"\n",
        "\n",
        "# Example usage\n",
        "house = House(\"mangala\", 250000)\n",
        "mansion = Mansion(\"mirok mansion\", 5000000, 15)\n",
        "\n",
        "# Print details\n",
        "print(house.get_house_info())\n",
        "# Output:\n",
        "# Address: 123 Oak St\n",
        "# Price: $250000\n",
        "\n",
        "print(mansion.get_mansion_info())\n",
        "# Output:\n",
        "# Address: 456 Grand Ave\n",
        "# Price: $5000000\n",
        "# Number of rooms: 15\n"
      ],
      "metadata": {
        "colab": {
          "base_uri": "https://localhost:8080/"
        },
        "id": "zb4QFRSRgoJZ",
        "outputId": "679efcb8-76cb-4d54-d1a1-e860b0a7d625"
      },
      "execution_count": 22,
      "outputs": [
        {
          "output_type": "stream",
          "name": "stdout",
          "text": [
            "Address: mangala\n",
            "Price: $250000\n",
            "Address: mirok mansion\n",
            "Price: $5000000\n",
            "Number of rooms: 15\n"
          ]
        }
      ]
    }
  ]
}