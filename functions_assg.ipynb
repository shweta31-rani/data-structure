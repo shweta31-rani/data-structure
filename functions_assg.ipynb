{
  "nbformat": 4,
  "nbformat_minor": 0,
  "metadata": {
    "colab": {
      "provenance": [],
      "authorship_tag": "ABX9TyPZPWf4s/V+MivDYk2vi3d2",
      "include_colab_link": true
    },
    "kernelspec": {
      "name": "python3",
      "display_name": "Python 3"
    },
    "language_info": {
      "name": "python"
    }
  },
  "cells": [
    {
      "cell_type": "markdown",
      "metadata": {
        "id": "view-in-github",
        "colab_type": "text"
      },
      "source": [
        "<a href=\"https://colab.research.google.com/github/shweta31-rani/data-structure/blob/main/functions_assg.ipynb\" target=\"_parent\"><img src=\"https://colab.research.google.com/assets/colab-badge.svg\" alt=\"Open In Colab\"/></a>"
      ]
    },
    {
      "cell_type": "code",
      "execution_count": null,
      "metadata": {
        "id": "nWnLgzSkCrMI"
      },
      "outputs": [],
      "source": []
    },
    {
      "cell_type": "markdown",
      "source": [
        "** 1. What is the difference between a function and a method in Python ?**"
      ],
      "metadata": {
        "id": "4IZ6tm0wDWYT"
      }
    },
    {
      "cell_type": "markdown",
      "source": [
        "Ans:Function is a block of code that performs a specific task while  a method is associated with an object or class and called by using dot notation.\n",
        "Functions are called directly by their name."
      ],
      "metadata": {
        "id": "TVU-SnupDd3q"
      }
    },
    {
      "cell_type": "markdown",
      "source": [
        "** 2. Explain the concept of function arguments and parameters in Python**"
      ],
      "metadata": {
        "id": "jBowEMgnFb5D"
      }
    },
    {
      "cell_type": "markdown",
      "source": [
        "Ans:Function parameters are the variables listed inside the parentheses in the function definition, while arguments are the values passed to the function when it's called.-f\n",
        "\n",
        "example:--f\n",
        "\n",
        "def square(n):-f\n",
        "\n",
        "\n",
        "  return n*n-f\n",
        "\n",
        "\n",
        "square(5)-f\n",
        "\n",
        "Here, n is parameter and  5 is argument."
      ],
      "metadata": {
        "id": "V8BWxDHCFrZy"
      }
    },
    {
      "cell_type": "markdown",
      "source": [
        "** 3. What are the different ways to define and call a function in Python?**"
      ],
      "metadata": {
        "id": "CcK6ECvUHn5j"
      }
    },
    {
      "cell_type": "markdown",
      "source": [
        "Ans:In Python, we define a function using the def keyword, followed by the function name, parentheses for parameters, and a colon. To call a function, simply use its name followed by parentheses, potentially with arguments.-f\n",
        "\n",
        "\n",
        "Calling a Function:\n",
        "Function Name: Use the name of the function you defined.\n",
        "Parentheses: Follow the function name with parentheses, even if the function doesn't take any arguments.\n",
        "Arguments: If the function expects arguments, place them inside the parentheses, separated by commas."
      ],
      "metadata": {
        "id": "eyx-svqMISET"
      }
    },
    {
      "cell_type": "markdown",
      "source": [
        "**4. What is the purpose of the `return` statement in a Python function ?**"
      ],
      "metadata": {
        "id": "3-rQSmFAOOjc"
      }
    },
    {
      "cell_type": "markdown",
      "source": [
        "Ans:Return statement: The Python return statement is a special statement that you can use inside a function or method to send the function's result back to the caller. A return statement consists of the return keyword followed by an optional return value."
      ],
      "metadata": {
        "id": "a78K7PbsOhGy"
      }
    },
    {
      "cell_type": "markdown",
      "source": [
        "** 5. What are iterators in Python and how do they differ from iterables**"
      ],
      "metadata": {
        "id": "VQVzEvkOPlId"
      }
    },
    {
      "cell_type": "markdown",
      "source": [
        "Ans:An iterator is an object that contains a countable number of values.\n",
        "\n",
        "An iterator is an object that can be iterated upon, meaning that you can traverse through all the values.\n",
        "\n",
        "Technically, in Python, an iterator is an object which implements the iterator protocol, which consist of the methods __iter__() and __next__().\n",
        "\n"
      ],
      "metadata": {
        "id": "kbsmR7ADPtg0"
      }
    },
    {
      "cell_type": "markdown",
      "source": [
        "** 6. Explain the concept of generators in Python and how they are defined**"
      ],
      "metadata": {
        "id": "UJ87sOjwQKFb"
      }
    },
    {
      "cell_type": "markdown",
      "source": [
        "Ans:In Python, a generator is a function that returns an iterator that produces a sequence of values when iterated over.\n",
        "\n",
        "Generators are useful when we want to produce a large sequence of values, but we don't want to store all of them in memory at once.\n",
        "\n",
        "In Python, similar to defining a normal function, we can define a generator function using the def keyword, but instead of the return statement we use the yield statement.-f\n",
        "\n",
        "\n",
        "\n",
        "def generator_name(arg):\n",
        "-f\n",
        "\n",
        "statements\n",
        "\n",
        "yield something-f\n",
        "\n",
        "\n",
        "\n",
        "Here, the yield keyword is used to produce a value from the generator.\n",
        "\n",
        "When the generator function is called, it does not execute the function body immediately. Instead, it returns a generator object that can be iterated over to produce the values.\n",
        "\n"
      ],
      "metadata": {
        "id": "aqZdgaQhQNmD"
      }
    },
    {
      "cell_type": "markdown",
      "source": [
        "** 7. What are the advantages of using generators over regular functions.**"
      ],
      "metadata": {
        "id": "AaeENAZjRpJ6"
      }
    },
    {
      "cell_type": "markdown",
      "source": [
        "Ans:There are several advantages to using generators over regular loops. Here are a few of the most important ones:\n",
        "\n",
        "Memory Efficiency: One of the biggest advantages of generators is that they are memory efficient. Since a generator yields its values one by one, it does not need to store all of the values in memory at once. This can be especially useful when working with large data sets, as it reduces the risk of running out of memory.-f\n",
        "\n",
        "\n",
        "Readability: Generators can make your code easier to read and understand. By breaking up the iteration process into smaller chunks, you can write code that is more concise and easier to follow.-f\n",
        "\n",
        "\n",
        "\n",
        "Speed: Generators can also be faster than regular loops, especially when working with large data sets. This is because they avoid the overhead of creating a list or other data structure to store the results."
      ],
      "metadata": {
        "id": "3zvIz8FdRx0a"
      }
    },
    {
      "cell_type": "markdown",
      "source": [
        "** 8. What is a lambda function in Python and when is it typically used**"
      ],
      "metadata": {
        "id": "9dVh--AHSa7T"
      }
    },
    {
      "cell_type": "markdown",
      "source": [
        "Ans:In Python, a lambda function is a small, anonymous function defined using the lambda keyword, typically used for short, single-expression operations, often as arguments to higher-order functions like map, filter, or sorted.\n",
        "Here's a breakdown:-f\n",
        "\n",
        "\n",
        "\n",
        "Anonymous Function:-f\n",
        "\n",
        "\n",
        "Lambda functions don't have a name like regular functions defined with def.\n",
        "Single Expression:\n",
        "They can only contain a single expression, which is automatically returned. -f\n",
        "\n",
        "\n",
        "Syntax:-f\n",
        "\n",
        "\n",
        "lambda arguments: expression.\n"
      ],
      "metadata": {
        "id": "bnFNzjfeSiSS"
      }
    },
    {
      "cell_type": "markdown",
      "source": [
        "**9. Explain the purpose and usage of the `map()` function in Python.**"
      ],
      "metadata": {
        "id": "z4FhbuYcS9sZ"
      }
    },
    {
      "cell_type": "markdown",
      "source": [
        "Ans:9.The map() function in Python applies a given function to each item in an iterable (like a list, tuple, or string) and returns an iterator that yields the transformed values.\n",
        "-f\n",
        "\n",
        "syntax:-f\n",
        "\n",
        " map(function, iterable)"
      ],
      "metadata": {
        "id": "c5Mu7WJGTE37"
      }
    },
    {
      "cell_type": "markdown",
      "source": [
        " 10. What is the difference between `map()`, `reduce()`, and `filter()` functions in Python?"
      ],
      "metadata": {
        "id": "TlmnruxnTin7"
      }
    },
    {
      "cell_type": "markdown",
      "source": [
        "Ans:In Python, map() applies a function to each item in an iterable, filter() selects items based on a condition, and reduce() (from the functools module) combines items into a single value.-f\n",
        "\n",
        "\n",
        "Here's a more detailed breakdown:-f\n",
        "\n",
        "\n",
        "map(function, iterable):-f\n",
        "\n",
        "\n",
        "Applies the given function to each item in the iterable (like a list, tuple, etc.). -f\n",
        "\n",
        "\n",
        "Returns an iterator that yields the results of applying the function to each item. -f\n",
        "\n",
        "\n",
        "Example: list(map(lambda x: x * 2, [1, 2, 3])) would return [2, 4, 6]. -f\n",
        "\n",
        "\n",
        "filter(function, iterable):-f\n",
        "\n",
        "\n",
        "Takes a function that returns True or False and an iterable. -f\n",
        "\n",
        "\n",
        "Returns an iterator that yields only the items from the iterable for which the function returns True.-f\n",
        "\n",
        "\n",
        "Example: list(filter(lambda x: x % 2 == 0, [1, 2, 3, 4])) would return [2, 4].\n",
        "reduce(function, iterable, initial) (from functools module):-f\n",
        "\n",
        "\n",
        "Applies a function cumulatively to the items of an iterable.-f\n",
        "\n",
        "\n",
        "The function must take two arguments (accumulator and current element) and return a single value. -f\n",
        "\n",
        "\n",
        "Optionally, an initial value can be provided as the starting value for the accumulator. -f\n",
        "\n",
        "\n",
        "Returns a single value, the result of applying the function cumulatively. -f\n",
        "\n",
        "\n",
        "Example: from functools import reduce; reduce(lambda x, y: x + y, [1, 2, 3]) would return 6."
      ],
      "metadata": {
        "id": "7ISbyA98T3BD"
      }
    },
    {
      "cell_type": "markdown",
      "source": [
        "**11. Using pen & Paper write the internal mechanism for sum operation using  reduce function on this given  list:[47,11,42,13].**"
      ],
      "metadata": {
        "id": "CTCamyNfUggq"
      }
    },
    {
      "cell_type": "markdown",
      "source": [],
      "metadata": {
        "id": "t1z31FXiYteM"
      }
    },
    {
      "cell_type": "code",
      "source": [],
      "metadata": {
        "id": "AegaazuIQ9vz"
      },
      "execution_count": null,
      "outputs": []
    }
  ]
}