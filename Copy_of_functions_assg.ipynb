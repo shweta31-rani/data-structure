{
  "nbformat": 4,
  "nbformat_minor": 0,
  "metadata": {
    "colab": {
      "provenance": [],
      "authorship_tag": "ABX9TyNB3mLvSqrPTw+/cH7lLD2N",
      "include_colab_link": true
    },
    "kernelspec": {
      "name": "python3",
      "display_name": "Python 3"
    },
    "language_info": {
      "name": "python"
    }
  },
  "cells": [
    {
      "cell_type": "markdown",
      "metadata": {
        "id": "view-in-github",
        "colab_type": "text"
      },
      "source": [
        "<a href=\"https://colab.research.google.com/github/shweta31-rani/data-structure/blob/main/Copy_of_functions_assg.ipynb\" target=\"_parent\"><img src=\"https://colab.research.google.com/assets/colab-badge.svg\" alt=\"Open In Colab\"/></a>"
      ]
    },
    {
      "cell_type": "code",
      "execution_count": null,
      "metadata": {
        "id": "nWnLgzSkCrMI"
      },
      "outputs": [],
      "source": []
    },
    {
      "cell_type": "markdown",
      "source": [
        "** 1. What is the difference between a function and a method in Python ?**"
      ],
      "metadata": {
        "id": "4IZ6tm0wDWYT"
      }
    },
    {
      "cell_type": "markdown",
      "source": [
        "Ans:Function is a block of code that performs a specific task while  a method is associated with an object or class and called by using dot notation.\n",
        "Functions are called directly by their name."
      ],
      "metadata": {
        "id": "TVU-SnupDd3q"
      }
    },
    {
      "cell_type": "markdown",
      "source": [
        "** 2. Explain the concept of function arguments and parameters in Python**"
      ],
      "metadata": {
        "id": "jBowEMgnFb5D"
      }
    },
    {
      "cell_type": "markdown",
      "source": [
        "Ans:Function parameters are the variables listed inside the parentheses in the function definition, while arguments are the values passed to the function when it's called.-f\n",
        "\n",
        "example:--f\n",
        "\n",
        "def square(n):-f\n",
        "\n",
        "\n",
        "  return n*n-f\n",
        "\n",
        "\n",
        "square(5)-f\n",
        "\n",
        "Here, n is parameter and  5 is argument."
      ],
      "metadata": {
        "id": "V8BWxDHCFrZy"
      }
    },
    {
      "cell_type": "markdown",
      "source": [
        "** 3. What are the different ways to define and call a function in Python?**"
      ],
      "metadata": {
        "id": "CcK6ECvUHn5j"
      }
    },
    {
      "cell_type": "markdown",
      "source": [
        "Ans:In Python, we define a function using the def keyword, followed by the function name, parentheses for parameters, and a colon. To call a function, simply use its name followed by parentheses, potentially with arguments.-f\n",
        "\n",
        "\n",
        "Calling a Function:\n",
        "Function Name: Use the name of the function you defined.\n",
        "Parentheses: Follow the function name with parentheses, even if the function doesn't take any arguments.\n",
        "Arguments: If the function expects arguments, place them inside the parentheses, separated by commas."
      ],
      "metadata": {
        "id": "eyx-svqMISET"
      }
    },
    {
      "cell_type": "markdown",
      "source": [
        "**4. What is the purpose of the `return` statement in a Python function ?**"
      ],
      "metadata": {
        "id": "3-rQSmFAOOjc"
      }
    },
    {
      "cell_type": "markdown",
      "source": [
        "Ans:Return statement: The Python return statement is a special statement that you can use inside a function or method to send the function's result back to the caller. A return statement consists of the return keyword followed by an optional return value."
      ],
      "metadata": {
        "id": "a78K7PbsOhGy"
      }
    },
    {
      "cell_type": "markdown",
      "source": [
        "** 5. What are iterators in Python and how do they differ from iterables**"
      ],
      "metadata": {
        "id": "VQVzEvkOPlId"
      }
    },
    {
      "cell_type": "markdown",
      "source": [
        "Ans:An iterator is an object that contains a countable number of values.\n",
        "\n",
        "An iterator is an object that can be iterated upon, meaning that you can traverse through all the values.\n",
        "\n",
        "Technically, in Python, an iterator is an object which implements the iterator protocol, which consist of the methods __iter__() and __next__().\n",
        "\n"
      ],
      "metadata": {
        "id": "kbsmR7ADPtg0"
      }
    },
    {
      "cell_type": "markdown",
      "source": [
        "** 6. Explain the concept of generators in Python and how they are defined**"
      ],
      "metadata": {
        "id": "UJ87sOjwQKFb"
      }
    },
    {
      "cell_type": "markdown",
      "source": [
        "Ans:In Python, a generator is a function that returns an iterator that produces a sequence of values when iterated over.\n",
        "\n",
        "Generators are useful when we want to produce a large sequence of values, but we don't want to store all of them in memory at once.\n",
        "\n",
        "In Python, similar to defining a normal function, we can define a generator function using the def keyword, but instead of the return statement we use the yield statement.-f\n",
        "\n",
        "\n",
        "\n",
        "def generator_name(arg):\n",
        "-f\n",
        "\n",
        "statements\n",
        "\n",
        "yield something-f\n",
        "\n",
        "\n",
        "\n",
        "Here, the yield keyword is used to produce a value from the generator.\n",
        "\n",
        "When the generator function is called, it does not execute the function body immediately. Instead, it returns a generator object that can be iterated over to produce the values.\n",
        "\n"
      ],
      "metadata": {
        "id": "aqZdgaQhQNmD"
      }
    },
    {
      "cell_type": "markdown",
      "source": [
        "** 7. What are the advantages of using generators over regular functions.**"
      ],
      "metadata": {
        "id": "AaeENAZjRpJ6"
      }
    },
    {
      "cell_type": "markdown",
      "source": [
        "Ans:There are several advantages to using generators over regular loops. Here are a few of the most important ones:\n",
        "\n",
        "Memory Efficiency: One of the biggest advantages of generators is that they are memory efficient. Since a generator yields its values one by one, it does not need to store all of the values in memory at once. This can be especially useful when working with large data sets, as it reduces the risk of running out of memory.-f\n",
        "\n",
        "\n",
        "Readability: Generators can make your code easier to read and understand. By breaking up the iteration process into smaller chunks, you can write code that is more concise and easier to follow.-f\n",
        "\n",
        "\n",
        "\n",
        "Speed: Generators can also be faster than regular loops, especially when working with large data sets. This is because they avoid the overhead of creating a list or other data structure to store the results."
      ],
      "metadata": {
        "id": "3zvIz8FdRx0a"
      }
    },
    {
      "cell_type": "markdown",
      "source": [
        "** 8. What is a lambda function in Python and when is it typically used**"
      ],
      "metadata": {
        "id": "9dVh--AHSa7T"
      }
    },
    {
      "cell_type": "markdown",
      "source": [
        "Ans:In Python, a lambda function is a small, anonymous function defined using the lambda keyword, typically used for short, single-expression operations, often as arguments to higher-order functions like map, filter, or sorted.\n",
        "Here's a breakdown:-f\n",
        "\n",
        "\n",
        "\n",
        "Anonymous Function:-f\n",
        "\n",
        "\n",
        "Lambda functions don't have a name like regular functions defined with def.\n",
        "Single Expression:\n",
        "They can only contain a single expression, which is automatically returned. -f\n",
        "\n",
        "\n",
        "Syntax:-f\n",
        "\n",
        "\n",
        "lambda arguments: expression.\n"
      ],
      "metadata": {
        "id": "bnFNzjfeSiSS"
      }
    },
    {
      "cell_type": "markdown",
      "source": [
        "**9. Explain the purpose and usage of the `map()` function in Python.**"
      ],
      "metadata": {
        "id": "z4FhbuYcS9sZ"
      }
    },
    {
      "cell_type": "markdown",
      "source": [
        "Ans:9.The map() function in Python applies a given function to each item in an iterable (like a list, tuple, or string) and returns an iterator that yields the transformed values.\n",
        "-f\n",
        "\n",
        "syntax:-f\n",
        "\n",
        " map(function, iterable)"
      ],
      "metadata": {
        "id": "c5Mu7WJGTE37"
      }
    },
    {
      "cell_type": "markdown",
      "source": [
        " 10. What is the difference between `map()`, `reduce()`, and `filter()` functions in Python?"
      ],
      "metadata": {
        "id": "TlmnruxnTin7"
      }
    },
    {
      "cell_type": "markdown",
      "source": [
        "Ans:In Python, map() applies a function to each item in an iterable, filter() selects items based on a condition, and reduce() (from the functools module) combines items into a single value.-f\n",
        "\n",
        "\n",
        "Here's a more detailed breakdown:-f\n",
        "\n",
        "\n",
        "map(function, iterable):-f\n",
        "\n",
        "\n",
        "Applies the given function to each item in the iterable (like a list, tuple, etc.). -f\n",
        "\n",
        "\n",
        "Returns an iterator that yields the results of applying the function to each item. -f\n",
        "\n",
        "\n",
        "Example: list(map(lambda x: x * 2, [1, 2, 3])) would return [2, 4, 6]. -f\n",
        "\n",
        "\n",
        "filter(function, iterable):-f\n",
        "\n",
        "\n",
        "Takes a function that returns True or False and an iterable. -f\n",
        "\n",
        "\n",
        "Returns an iterator that yields only the items from the iterable for which the function returns True.-f\n",
        "\n",
        "\n",
        "Example: list(filter(lambda x: x % 2 == 0, [1, 2, 3, 4])) would return [2, 4].\n",
        "reduce(function, iterable, initial) (from functools module):-f\n",
        "\n",
        "\n",
        "Applies a function cumulatively to the items of an iterable.-f\n",
        "\n",
        "\n",
        "The function must take two arguments (accumulator and current element) and return a single value. -f\n",
        "\n",
        "\n",
        "Optionally, an initial value can be provided as the starting value for the accumulator. -f\n",
        "\n",
        "\n",
        "Returns a single value, the result of applying the function cumulatively. -f\n",
        "\n",
        "\n",
        "Example: from functools import reduce; reduce(lambda x, y: x + y, [1, 2, 3]) would return 6."
      ],
      "metadata": {
        "id": "7ISbyA98T3BD"
      }
    },
    {
      "cell_type": "markdown",
      "source": [
        "**11. Using pen & Paper write the internal mechanism for sum operation using  reduce function on this given  list:[47,11,42,13].**"
      ],
      "metadata": {
        "id": "CTCamyNfUggq"
      }
    },
    {
      "cell_type": "code",
      "source": [],
      "metadata": {
        "id": "AegaazuIQ9vz"
      },
      "execution_count": null,
      "outputs": []
    },
    {
      "cell_type": "markdown",
      "source": [
        "**pratical questions**"
      ],
      "metadata": {
        "id": "p4O2uCrFdJT5"
      }
    },
    {
      "cell_type": "markdown",
      "source": [
        " 1. Write a Python function that takes a list of numbers as input and returns the sum of all even numbers in\n",
        "the list.-f\n",
        "\n"
      ],
      "metadata": {
        "id": "AwbwVYz_dtnB"
      }
    },
    {
      "cell_type": "code",
      "source": [
        "def sum_even_numbers(numbers):\n",
        "  \"\"\"\n",
        "  This function takes a list of numbers as input and returns the sum of all even numbers in the list.\n",
        "  \"\"\"\n",
        "  even_sum = 0\n",
        "  for number in numbers:\n",
        "    if number % 2 == 0:\n",
        "      even_sum += number\n",
        "  return even_sum"
      ],
      "metadata": {
        "id": "y3wj5FGEeFUx"
      },
      "execution_count": null,
      "outputs": []
    },
    {
      "cell_type": "markdown",
      "source": [
        " 2. Create a Python function that accepts a string and returns the reverse of that string"
      ],
      "metadata": {
        "id": "BfbXJ2_aefpp"
      }
    },
    {
      "cell_type": "code",
      "source": [
        "string_to_reverse = \"hello\"\n",
        "reversed_string = reverse_string(string_to_reverse)\n",
        "print(f\"Original string: {string_to_reverse}\")\n",
        "print(f\"Reversed string: {reversed_string}\")"
      ],
      "metadata": {
        "colab": {
          "base_uri": "https://localhost:8080/"
        },
        "id": "lYCk_iFPekHT",
        "outputId": "171aef3e-c894-4be0-f5cb-86cc4d5eab3a"
      },
      "execution_count": null,
      "outputs": [
        {
          "output_type": "stream",
          "name": "stdout",
          "text": [
            "Original string: hello\n",
            "Reversed string: olleh\n"
          ]
        }
      ]
    },
    {
      "cell_type": "markdown",
      "source": [
        " 3. Implement a Python function that takes a list of integers and returns a new list containing the squares of\n",
        "each number."
      ],
      "metadata": {
        "id": "5msy93Djfyfy"
      }
    },
    {
      "cell_type": "code",
      "source": [
        "num=[1,2,3,4,5]\n",
        "square=map(lambda x:x**2,num)\n",
        "print(list(square))"
      ],
      "metadata": {
        "colab": {
          "base_uri": "https://localhost:8080/"
        },
        "id": "PbSMNjqKf2t6",
        "outputId": "4dee03e8-c98b-4654-ec4e-51411015e61b"
      },
      "execution_count": null,
      "outputs": [
        {
          "output_type": "stream",
          "name": "stdout",
          "text": [
            "[1, 4, 9, 16, 25]\n"
          ]
        }
      ]
    },
    {
      "cell_type": "markdown",
      "source": [
        " 4. Write a Python function that checks if a given number is prime or not from 1 to 200."
      ],
      "metadata": {
        "id": "SRIkTCuZgdjJ"
      }
    },
    {
      "cell_type": "code",
      "source": [
        "def is_prime(n):\n",
        "    if n <= 1:\n",
        "        return False  # 0 and 1 are not prime numbers\n",
        "    for i in range(2, int(n ** 0.5) + 1):\n",
        "        if n % i == 0:\n",
        "            return False  # If n is divisible by any number, it's not prime\n",
        "    return True  # If no divisors found, n is prime\n",
        "\n",
        "# Test the function for numbers from 1 to 200\n",
        "for num in range(1, 201):\n",
        "    if is_prime(num):\n",
        "        print(f\"{num} is prime\")"
      ],
      "metadata": {
        "colab": {
          "base_uri": "https://localhost:8080/"
        },
        "id": "d_g53rxYgjSi",
        "outputId": "bd1c8dc0-6458-48d9-d2bf-93a5c992d546"
      },
      "execution_count": null,
      "outputs": [
        {
          "output_type": "stream",
          "name": "stdout",
          "text": [
            "2 is prime\n",
            "3 is prime\n",
            "5 is prime\n",
            "7 is prime\n",
            "11 is prime\n",
            "13 is prime\n",
            "17 is prime\n",
            "19 is prime\n",
            "23 is prime\n",
            "29 is prime\n",
            "31 is prime\n",
            "37 is prime\n",
            "41 is prime\n",
            "43 is prime\n",
            "47 is prime\n",
            "53 is prime\n",
            "59 is prime\n",
            "61 is prime\n",
            "67 is prime\n",
            "71 is prime\n",
            "73 is prime\n",
            "79 is prime\n",
            "83 is prime\n",
            "89 is prime\n",
            "97 is prime\n",
            "101 is prime\n",
            "103 is prime\n",
            "107 is prime\n",
            "109 is prime\n",
            "113 is prime\n",
            "127 is prime\n",
            "131 is prime\n",
            "137 is prime\n",
            "139 is prime\n",
            "149 is prime\n",
            "151 is prime\n",
            "157 is prime\n",
            "163 is prime\n",
            "167 is prime\n",
            "173 is prime\n",
            "179 is prime\n",
            "181 is prime\n",
            "191 is prime\n",
            "193 is prime\n",
            "197 is prime\n",
            "199 is prime\n"
          ]
        }
      ]
    },
    {
      "cell_type": "markdown",
      "source": [
        " 5. Create an iterator class in Python that generates the Fibonacci sequence up to a specified number of\n",
        "terms"
      ],
      "metadata": {
        "id": "05yGDZNQhzN6"
      }
    },
    {
      "cell_type": "code",
      "source": [
        "class FibonacciIterator:\n",
        "    def __init__(self, terms):\n",
        "        # Initialize the number of terms and the first two Fibonacci numbers\n",
        "        self.terms = terms\n",
        "        self.a, self.b = 0, 1\n",
        "        self.count = 0\n",
        "\n",
        "    def __iter__(self):\n",
        "        # The iterator itself returns the object\n",
        "        return self\n",
        "\n",
        "    def __next__(self):\n",
        "        # Stop iteration when the number of terms is reached\n",
        "        if self.count >= self.terms:\n",
        "            raise StopIteration\n",
        "        # Return the next Fibonacci number in the sequence\n",
        "        self.count += 1\n",
        "        fib_number = self.a\n",
        "        self.a, self.b = self.b, self.a + self.b\n",
        "        return fib_number\n",
        "\n",
        "# Example usage\n",
        "fibonacci = FibonacciIterator(10)  # Generate the first 10 Fibonacci numbers\n",
        "for num in fibonacci:\n",
        "    print(num)"
      ],
      "metadata": {
        "colab": {
          "base_uri": "https://localhost:8080/"
        },
        "id": "J-aymDDEh5QE",
        "outputId": "07d4556b-38e8-4521-a57d-72caadc763be"
      },
      "execution_count": null,
      "outputs": [
        {
          "output_type": "stream",
          "name": "stdout",
          "text": [
            "0\n",
            "1\n",
            "1\n",
            "2\n",
            "3\n",
            "5\n",
            "8\n",
            "13\n",
            "21\n",
            "34\n"
          ]
        }
      ]
    },
    {
      "cell_type": "markdown",
      "source": [
        "6. Write a generator function in Python that yields the powers of 2 up to a given exponent"
      ],
      "metadata": {
        "id": "OY3zLfr5iiYC"
      }
    },
    {
      "cell_type": "code",
      "source": [
        "def powers_of_2(exponent):\n",
        "    # Iterate from 0 to the given exponent (inclusive)\n",
        "    for i in range(exponent + 1):\n",
        "        yield 2 ** i\n",
        "\n",
        "# Example usage\n",
        "for power in powers_of_2(5):  # Generate powers of 2 up to 2^5\n",
        "    print(power)"
      ],
      "metadata": {
        "colab": {
          "base_uri": "https://localhost:8080/"
        },
        "id": "c8JOuBrcispZ",
        "outputId": "abd1c8f2-d4a0-4711-f3ad-f6644ce683b5"
      },
      "execution_count": null,
      "outputs": [
        {
          "output_type": "stream",
          "name": "stdout",
          "text": [
            "1\n",
            "2\n",
            "4\n",
            "8\n",
            "16\n",
            "32\n"
          ]
        }
      ]
    },
    {
      "cell_type": "markdown",
      "source": [
        " 7. Implement a generator function that reads a file line by line and yields each line as a string."
      ],
      "metadata": {
        "id": "4VG92sxziv56"
      }
    },
    {
      "cell_type": "code",
      "source": [
        "def read_file_line_by_line(filename):\n",
        "    with open(filename, 'r') as file:\n",
        "        for line in file:\n",
        "             yield line.strip()  # strip() to remove any trailing newlines or spaces\n",
        "\n",
        "# Example usage:\n",
        "for line in read_file_line_by_line('example.txt'):\n",
        "     print(line)\n"
      ],
      "metadata": {
        "colab": {
          "base_uri": "https://localhost:8080/",
          "height": 315
        },
        "id": "3u0wzzDni6s5",
        "outputId": "6687afd6-c441-4ceb-cb02-187e33a3724d"
      },
      "execution_count": null,
      "outputs": [
        {
          "output_type": "error",
          "ename": "FileNotFoundError",
          "evalue": "[Errno 2] No such file or directory: 'example.txt'",
          "traceback": [
            "\u001b[0;31m---------------------------------------------------------------------------\u001b[0m",
            "\u001b[0;31mFileNotFoundError\u001b[0m                         Traceback (most recent call last)",
            "\u001b[0;32m<ipython-input-18-b9d95b471f6a>\u001b[0m in \u001b[0;36m<cell line: 0>\u001b[0;34m()\u001b[0m\n\u001b[1;32m      5\u001b[0m \u001b[0;34m\u001b[0m\u001b[0m\n\u001b[1;32m      6\u001b[0m \u001b[0;31m# Example usage:\u001b[0m\u001b[0;34m\u001b[0m\u001b[0;34m\u001b[0m\u001b[0m\n\u001b[0;32m----> 7\u001b[0;31m \u001b[0;32mfor\u001b[0m \u001b[0mline\u001b[0m \u001b[0;32min\u001b[0m \u001b[0mread_file_line_by_line\u001b[0m\u001b[0;34m(\u001b[0m\u001b[0;34m'example.txt'\u001b[0m\u001b[0;34m)\u001b[0m\u001b[0;34m:\u001b[0m\u001b[0;34m\u001b[0m\u001b[0;34m\u001b[0m\u001b[0m\n\u001b[0m\u001b[1;32m      8\u001b[0m      \u001b[0mprint\u001b[0m\u001b[0;34m(\u001b[0m\u001b[0mline\u001b[0m\u001b[0;34m)\u001b[0m\u001b[0;34m\u001b[0m\u001b[0;34m\u001b[0m\u001b[0m\n",
            "\u001b[0;32m<ipython-input-18-b9d95b471f6a>\u001b[0m in \u001b[0;36mread_file_line_by_line\u001b[0;34m(filename)\u001b[0m\n\u001b[1;32m      1\u001b[0m \u001b[0;32mdef\u001b[0m \u001b[0mread_file_line_by_line\u001b[0m\u001b[0;34m(\u001b[0m\u001b[0mfilename\u001b[0m\u001b[0;34m)\u001b[0m\u001b[0;34m:\u001b[0m\u001b[0;34m\u001b[0m\u001b[0;34m\u001b[0m\u001b[0m\n\u001b[0;32m----> 2\u001b[0;31m     \u001b[0;32mwith\u001b[0m \u001b[0mopen\u001b[0m\u001b[0;34m(\u001b[0m\u001b[0mfilename\u001b[0m\u001b[0;34m,\u001b[0m \u001b[0;34m'r'\u001b[0m\u001b[0;34m)\u001b[0m \u001b[0;32mas\u001b[0m \u001b[0mfile\u001b[0m\u001b[0;34m:\u001b[0m\u001b[0;34m\u001b[0m\u001b[0;34m\u001b[0m\u001b[0m\n\u001b[0m\u001b[1;32m      3\u001b[0m         \u001b[0;32mfor\u001b[0m \u001b[0mline\u001b[0m \u001b[0;32min\u001b[0m \u001b[0mfile\u001b[0m\u001b[0;34m:\u001b[0m\u001b[0;34m\u001b[0m\u001b[0;34m\u001b[0m\u001b[0m\n\u001b[1;32m      4\u001b[0m              \u001b[0;32myield\u001b[0m \u001b[0mline\u001b[0m\u001b[0;34m.\u001b[0m\u001b[0mstrip\u001b[0m\u001b[0;34m(\u001b[0m\u001b[0;34m)\u001b[0m  \u001b[0;31m# strip() to remove any trailing newlines or spaces\u001b[0m\u001b[0;34m\u001b[0m\u001b[0;34m\u001b[0m\u001b[0m\n\u001b[1;32m      5\u001b[0m \u001b[0;34m\u001b[0m\u001b[0m\n",
            "\u001b[0;31mFileNotFoundError\u001b[0m: [Errno 2] No such file or directory: 'example.txt'"
          ]
        }
      ]
    },
    {
      "cell_type": "markdown",
      "source": [
        " 8. Use a lambda function in Python to sort a list of tuples based on the second element of each tuple"
      ],
      "metadata": {
        "id": "vTA8QxGIjVci"
      }
    },
    {
      "cell_type": "code",
      "source": [
        "tuples_list = [(1, 3), (2, 1), (4, 2), (3, 5)]\n",
        "\n",
        "# Sort using lambda to sort by the second element of each tuple\n",
        "sorted_list = sorted(tuples_list, key=lambda x: x[1])\n",
        "\n",
        "# Output the sorted list\n",
        "print(sorted_list)"
      ],
      "metadata": {
        "colab": {
          "base_uri": "https://localhost:8080/"
        },
        "id": "6DScKTquja05",
        "outputId": "3685653a-d8b7-40dc-d346-4645aa2ccd94"
      },
      "execution_count": null,
      "outputs": [
        {
          "output_type": "stream",
          "name": "stdout",
          "text": [
            "[(2, 1), (4, 2), (1, 3), (3, 5)]\n"
          ]
        }
      ]
    },
    {
      "cell_type": "markdown",
      "source": [
        " 9. Write a Python program that uses `map()` to convert a list of temperatures from Celsius to Fahrenheit."
      ],
      "metadata": {
        "id": "Hbrt-Fxjjrbp"
      }
    },
    {
      "cell_type": "code",
      "source": [
        "celsius_temperatures = [0, 20, 25, 30, 35]\n",
        "\n",
        "# Function to convert Celsius to Fahrenheit\n",
        "def celsius_to_fahrenheit(celsius):\n",
        "    return (celsius * 9/5) + 32\n",
        "\n",
        "fahrenheit_temperatures = list(map(celsius_to_fahrenheit, celsius_temperatures))\n",
        "\n",
        "# Output the result\n",
        "print(fahrenheit_temperatures)"
      ],
      "metadata": {
        "colab": {
          "base_uri": "https://localhost:8080/"
        },
        "id": "9qJCBexXjsgJ",
        "outputId": "b14ff399-44ef-47fc-8c69-d3851c22ce89"
      },
      "execution_count": null,
      "outputs": [
        {
          "output_type": "stream",
          "name": "stdout",
          "text": [
            "[32.0, 68.0, 77.0, 86.0, 95.0]\n"
          ]
        }
      ]
    },
    {
      "cell_type": "markdown",
      "source": [
        "10. Create a Python program that uses `filter()` to remove all the vowels from a given string"
      ],
      "metadata": {
        "id": "4zOAChUqj5VC"
      }
    },
    {
      "cell_type": "code",
      "source": [
        "def is_not_vowel(char):\n",
        "    vowels = \"aeiouAEIOU\"\n",
        "    return char not in vowels\n",
        "\n",
        "# Given string\n",
        "input_string = \"Hello, World!\"\n",
        "\n",
        "# Use filter() to remove vowels\n",
        "filtered_string = ''.join(filter(is_not_vowel, input_string))\n",
        "\n",
        "# Output the result\n",
        "print(filtered_string)"
      ],
      "metadata": {
        "colab": {
          "base_uri": "https://localhost:8080/"
        },
        "id": "r31jJTogj9ny",
        "outputId": "769dd66c-0ba1-47ce-a68b-a5f5e017177b"
      },
      "execution_count": null,
      "outputs": [
        {
          "output_type": "stream",
          "name": "stdout",
          "text": [
            "Hll, Wrld!\n"
          ]
        }
      ]
    },
    {
      "cell_type": "code",
      "source": [
        "orders = [\n",
        "    [34587,\"book title and author\",4,40.95],\n",
        "    [98762,\"learning python,mark lutz\",5,56.80],\n",
        "    [77226,\"head first python,mark lutz,5,32.95\"],\n",
        "    [88112,\"einfuhrung in python3,bernd klein,3,24.99\"],\n",
        "]\n",
        "\n",
        "# Using map() and lambda to create 2-tuples with the desired product calculation\n",
        "result = list(map(lambda order: (order[0],  # Order number(order[1] * order[2] + 10) if order[1] * order[2] < 100 else order[1] * order[2]\n",
        "), orders))\n",
        "\n",
        "# Output the result\n",
        "print(result)"
      ],
      "metadata": {
        "colab": {
          "base_uri": "https://localhost:8080/"
        },
        "id": "uBJ8HTfOkPMh",
        "outputId": "72bcebdc-06d1-4c08-a495-f370df869a7a"
      },
      "execution_count": null,
      "outputs": [
        {
          "output_type": "stream",
          "name": "stdout",
          "text": [
            "[(34587,), (98762,), (77226,), (88112,)]\n"
          ]
        }
      ]
    }
  ]
}